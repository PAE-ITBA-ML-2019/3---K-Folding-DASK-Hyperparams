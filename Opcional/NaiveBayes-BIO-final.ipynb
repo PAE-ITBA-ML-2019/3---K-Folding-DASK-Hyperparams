{
  "nbformat": 4,
  "nbformat_minor": 0,
  "metadata": {
    "kernelspec": {
      "display_name": "Python (tensorflow-gpu)",
      "language": "python",
      "name": "tensorflow-gpu"
    },
    "language_info": {
      "codemirror_mode": {
        "name": "ipython",
        "version": 3
      },
      "file_extension": ".py",
      "mimetype": "text/x-python",
      "name": "python",
      "nbconvert_exporter": "python",
      "pygments_lexer": "ipython3",
      "version": "3.6.8"
    },
    "colab": {
      "name": "NaiveBayes-BIO-final.ipynb",
      "version": "0.3.2",
      "provenance": []
    }
  },
  "cells": [
    {
      "cell_type": "markdown",
      "metadata": {
        "id": "93qVf992cs7w",
        "colab_type": "text"
      },
      "source": [
        "**<center> CLASIFICACIÓN DE LESIONES DERMATOLÓGICAS </center>**"
      ]
    },
    {
      "cell_type": "markdown",
      "metadata": {
        "id": "skp32amzcs7x",
        "colab_type": "text"
      },
      "source": [
        "**Descripción del dataset**\n",
        "\n",
        "Utilizaremos un [dataset público](https://archive.ics.uci.edu/ml/datasets/Dermatology) de la Universidad de California Irvine. \n",
        "El diagnóstico diferencial de patologías eritemato-escamosas es un problema en dermatología. Todas ellas comparten los atributos clínicos del eritema y la piel escamosa, con muy pocas diferencias. Las patologías de este grupo son psoriasis, dermatitis seborreica, liquen plano, pitiriasis rosada, dermatitis crónica, y  pitiriasis rubra pilaris. Generalmente se necesita una biopsia para el diagnóstico, pero lamentablemente estas patologías comparten también muchos atributos histopatológicos."
      ]
    },
    {
      "cell_type": "code",
      "metadata": {
        "id": "xh5eABO0cs7y",
        "colab_type": "code",
        "colab": {}
      },
      "source": [
        "pathology_names = (\"psoriasis\", \"seboreic dermatitis\", \"lichen planus\", \"pityriasis rosea\", \"cronic dermatitis\", \"pityriasis rubra pilaris\") "
      ],
      "execution_count": 0,
      "outputs": []
    },
    {
      "cell_type": "markdown",
      "metadata": {
        "id": "zBTTwnsKcs73",
        "colab_type": "text"
      },
      "source": [
        "La biopsia consiste en analizar bajo microscopio una muestra de piel y evaluar una serie de atributos. Estos se tabulan en una escala entre el 0 y el 3, según el grado en que se observa el atributo."
      ]
    },
    {
      "cell_type": "code",
      "metadata": {
        "id": "S79NaSP1cs74",
        "colab_type": "code",
        "colab": {}
      },
      "source": [
        "histological_variables= [\"melanin incontinence\"\n",
        "        , \"eosinophils in the infiltrate\"\n",
        "        , \"PNL infiltrate\"\n",
        "        , \"fibrosis of the papillary dermis\"\n",
        "        , \"exocytosis\"\n",
        "        , \"acanthosis\"\n",
        "        , \"hyperkeratosis\"\n",
        "        , \"parakeratosis\"\n",
        "        , \"clubbing of the rete ridges\"\n",
        "        , \"elongation of the rete ridges\"\n",
        "        , \"thinning of the suprapapillary epidermis\"\n",
        "        , \"spongiform pustule\"\n",
        "        , \"munro microabcess\"\n",
        "        , \"focal hypergranulosis\"\n",
        "        , \"disappearance of the granular layer\"\n",
        "        , \"vacuolisation and damage of basal layer\"\n",
        "        , \"spongiosis\"\n",
        "        ,\"saw-tooth appearance of retes\"\n",
        "        ,\"follicular horn plug\"\n",
        "        ,\"perifollicular parakeratosis\"\n",
        "        ,\"inflammatory monoluclear inflitrate\"\n",
        "        ,\"band-like infiltrate\"]"
      ],
      "execution_count": 0,
      "outputs": []
    },
    {
      "cell_type": "markdown",
      "metadata": {
        "id": "cckBRsPocs78",
        "colab_type": "text"
      },
      "source": [
        "También se tienen en cuenta factores clínicos. Estos también se tabulan en un rango de 0 a 3."
      ]
    },
    {
      "cell_type": "code",
      "metadata": {
        "id": "tD3QpYrxcs78",
        "colab_type": "code",
        "colab": {}
      },
      "source": [
        "clinical_variables = [\"erythema\"\n",
        "        , \"scaling\"\n",
        "        , \"definite borders\"\n",
        "        , \"itching\"\n",
        "        , \"koebner phenomenon\"\n",
        "        , \"polygonal papules\"\n",
        "        , \"follicular papules\"\n",
        "        , \"oral mucosal involvement\"\n",
        "        , \"knee and elbow involvement\"\n",
        "        , \"scalp involvement\"\n",
        "        , \"family history\"]"
      ],
      "execution_count": 0,
      "outputs": []
    },
    {
      "cell_type": "markdown",
      "metadata": {
        "id": "a_8ksUaZcs7_",
        "colab_type": "text"
      },
      "source": [
        "Por último, se considera también la edad del paciente. Podemos considerar esta variable como continua"
      ]
    },
    {
      "cell_type": "code",
      "metadata": {
        "id": "1lRjyg2pcs7_",
        "colab_type": "code",
        "colab": {}
      },
      "source": [
        "variable_names = clinical_variables + histological_variables\n",
        "variable_names.append(\"Age\")\n"
      ],
      "execution_count": 0,
      "outputs": []
    },
    {
      "cell_type": "markdown",
      "metadata": {
        "id": "L5Hxj1aycs8C",
        "colab_type": "text"
      },
      "source": [
        "**Procesamiento del dataset**\n",
        "\n",
        "El dataset consiste de 366 casos donde se tabularon los datos clínicos del paciente y los atributos histopatológicos de la lesión.\n",
        "Si tenés el repositorio clonado localmente, especificá la ruta al archivo \"data_dermatology.csv\". Sino, descargá el archivo \"data_dermatology.csv\" del repositorio y especificá la ruta al archivo descargado."
      ]
    },
    {
      "cell_type": "code",
      "metadata": {
        "id": "P3sjroSCcs8D",
        "colab_type": "code",
        "colab": {}
      },
      "source": [
        "csvpath = \"pathology.csv\""
      ],
      "execution_count": 0,
      "outputs": []
    },
    {
      "cell_type": "code",
      "metadata": {
        "id": "mc3kX1EDcs8L",
        "colab_type": "code",
        "colab": {}
      },
      "source": [
        "import pandas as pd\n",
        "import numpy as np\n",
        "dataframe = pd.read_csv(csvpath,index_col=False,header=None)"
      ],
      "execution_count": 0,
      "outputs": []
    },
    {
      "cell_type": "code",
      "metadata": {
        "id": "87s-Pq6Xcs8N",
        "colab_type": "code",
        "colab": {},
        "outputId": "529002af-6a83-46ec-ddef-3a851dfb4803"
      },
      "source": [
        "del dataframe[35]\n",
        "dataframe.head()\n"
      ],
      "execution_count": 0,
      "outputs": [
        {
          "output_type": "execute_result",
          "data": {
            "text/html": [
              "<div>\n",
              "<style scoped>\n",
              "    .dataframe tbody tr th:only-of-type {\n",
              "        vertical-align: middle;\n",
              "    }\n",
              "\n",
              "    .dataframe tbody tr th {\n",
              "        vertical-align: top;\n",
              "    }\n",
              "\n",
              "    .dataframe thead th {\n",
              "        text-align: right;\n",
              "    }\n",
              "</style>\n",
              "<table border=\"1\" class=\"dataframe\">\n",
              "  <thead>\n",
              "    <tr style=\"text-align: right;\">\n",
              "      <th></th>\n",
              "      <th>0</th>\n",
              "      <th>1</th>\n",
              "      <th>2</th>\n",
              "      <th>3</th>\n",
              "      <th>4</th>\n",
              "      <th>5</th>\n",
              "      <th>6</th>\n",
              "      <th>7</th>\n",
              "      <th>8</th>\n",
              "      <th>9</th>\n",
              "      <th>...</th>\n",
              "      <th>25</th>\n",
              "      <th>26</th>\n",
              "      <th>27</th>\n",
              "      <th>28</th>\n",
              "      <th>29</th>\n",
              "      <th>30</th>\n",
              "      <th>31</th>\n",
              "      <th>32</th>\n",
              "      <th>33</th>\n",
              "      <th>34</th>\n",
              "    </tr>\n",
              "  </thead>\n",
              "  <tbody>\n",
              "    <tr>\n",
              "      <th>0</th>\n",
              "      <td>2</td>\n",
              "      <td>2</td>\n",
              "      <td>0</td>\n",
              "      <td>3</td>\n",
              "      <td>0</td>\n",
              "      <td>0</td>\n",
              "      <td>0</td>\n",
              "      <td>0</td>\n",
              "      <td>1</td>\n",
              "      <td>0</td>\n",
              "      <td>...</td>\n",
              "      <td>0</td>\n",
              "      <td>0</td>\n",
              "      <td>3</td>\n",
              "      <td>0</td>\n",
              "      <td>0</td>\n",
              "      <td>0</td>\n",
              "      <td>1</td>\n",
              "      <td>0</td>\n",
              "      <td>55</td>\n",
              "      <td>2</td>\n",
              "    </tr>\n",
              "    <tr>\n",
              "      <th>1</th>\n",
              "      <td>3</td>\n",
              "      <td>3</td>\n",
              "      <td>3</td>\n",
              "      <td>2</td>\n",
              "      <td>1</td>\n",
              "      <td>0</td>\n",
              "      <td>0</td>\n",
              "      <td>0</td>\n",
              "      <td>1</td>\n",
              "      <td>1</td>\n",
              "      <td>...</td>\n",
              "      <td>0</td>\n",
              "      <td>0</td>\n",
              "      <td>0</td>\n",
              "      <td>0</td>\n",
              "      <td>0</td>\n",
              "      <td>0</td>\n",
              "      <td>1</td>\n",
              "      <td>0</td>\n",
              "      <td>8</td>\n",
              "      <td>1</td>\n",
              "    </tr>\n",
              "    <tr>\n",
              "      <th>2</th>\n",
              "      <td>2</td>\n",
              "      <td>1</td>\n",
              "      <td>2</td>\n",
              "      <td>3</td>\n",
              "      <td>1</td>\n",
              "      <td>3</td>\n",
              "      <td>0</td>\n",
              "      <td>3</td>\n",
              "      <td>0</td>\n",
              "      <td>0</td>\n",
              "      <td>...</td>\n",
              "      <td>0</td>\n",
              "      <td>2</td>\n",
              "      <td>3</td>\n",
              "      <td>2</td>\n",
              "      <td>0</td>\n",
              "      <td>0</td>\n",
              "      <td>2</td>\n",
              "      <td>3</td>\n",
              "      <td>26</td>\n",
              "      <td>3</td>\n",
              "    </tr>\n",
              "    <tr>\n",
              "      <th>3</th>\n",
              "      <td>2</td>\n",
              "      <td>2</td>\n",
              "      <td>2</td>\n",
              "      <td>0</td>\n",
              "      <td>0</td>\n",
              "      <td>0</td>\n",
              "      <td>0</td>\n",
              "      <td>0</td>\n",
              "      <td>3</td>\n",
              "      <td>2</td>\n",
              "      <td>...</td>\n",
              "      <td>3</td>\n",
              "      <td>0</td>\n",
              "      <td>0</td>\n",
              "      <td>0</td>\n",
              "      <td>0</td>\n",
              "      <td>0</td>\n",
              "      <td>3</td>\n",
              "      <td>0</td>\n",
              "      <td>40</td>\n",
              "      <td>1</td>\n",
              "    </tr>\n",
              "    <tr>\n",
              "      <th>4</th>\n",
              "      <td>2</td>\n",
              "      <td>3</td>\n",
              "      <td>2</td>\n",
              "      <td>2</td>\n",
              "      <td>2</td>\n",
              "      <td>2</td>\n",
              "      <td>0</td>\n",
              "      <td>2</td>\n",
              "      <td>0</td>\n",
              "      <td>0</td>\n",
              "      <td>...</td>\n",
              "      <td>2</td>\n",
              "      <td>3</td>\n",
              "      <td>2</td>\n",
              "      <td>3</td>\n",
              "      <td>0</td>\n",
              "      <td>0</td>\n",
              "      <td>2</td>\n",
              "      <td>3</td>\n",
              "      <td>45</td>\n",
              "      <td>3</td>\n",
              "    </tr>\n",
              "  </tbody>\n",
              "</table>\n",
              "<p>5 rows × 35 columns</p>\n",
              "</div>"
            ],
            "text/plain": [
              "   0   1   2   3   4   5   6   7   8   9  ...  25  26  27  28  29  30  31  32  \\\n",
              "0   2   2   0   3   0   0   0   0   1   0 ...   0   0   3   0   0   0   1   0   \n",
              "1   3   3   3   2   1   0   0   0   1   1 ...   0   0   0   0   0   0   1   0   \n",
              "2   2   1   2   3   1   3   0   3   0   0 ...   0   2   3   2   0   0   2   3   \n",
              "3   2   2   2   0   0   0   0   0   3   2 ...   3   0   0   0   0   0   3   0   \n",
              "4   2   3   2   2   2   2   0   2   0   0 ...   2   3   2   3   0   0   2   3   \n",
              "\n",
              "   33  34  \n",
              "0  55   2  \n",
              "1   8   1  \n",
              "2  26   3  \n",
              "3  40   1  \n",
              "4  45   3  \n",
              "\n",
              "[5 rows x 35 columns]"
            ]
          },
          "metadata": {
            "tags": []
          },
          "execution_count": 8
        }
      ]
    },
    {
      "cell_type": "markdown",
      "metadata": {
        "id": "bEiLngbLcs8R",
        "colab_type": "text"
      },
      "source": [
        "Obtener un numpy array con los valores de las 33 variables"
      ]
    },
    {
      "cell_type": "code",
      "metadata": {
        "id": "bjYYry1Ncs8S",
        "colab_type": "code",
        "colab": {},
        "outputId": "ea1a0da1-4d01-47a3-9cbe-f258bf081dc3"
      },
      "source": [
        "data_variables = dataframe[dataframe.columns[:-2]].values #Selecciono las 33 variables clinicas e histológicas. Para convertirlo a array, uso .values\n",
        "print(\"Cantidad de pacientes: \", data_variables.shape[0])\n",
        "print(\"Cantidad de variables por paciente: \", data_variables.shape[1])\n"
      ],
      "execution_count": 0,
      "outputs": [
        {
          "output_type": "stream",
          "text": [
            "Cantidad de pacientes:  366\n",
            "Cantidad de variables por paciente:  33\n"
          ],
          "name": "stdout"
        }
      ]
    },
    {
      "cell_type": "markdown",
      "metadata": {
        "id": "1U7v8fLZcs8Y",
        "colab_type": "text"
      },
      "source": [
        "Obtener un numpy array con los valores de las 366 etiquetas \"ground-truth\" del tipo de lesión."
      ]
    },
    {
      "cell_type": "code",
      "metadata": {
        "id": "oDdNJFSxcs8Z",
        "colab_type": "code",
        "colab": {},
        "outputId": "41ee5aad-bb19-451c-fee7-9844385f0f10"
      },
      "source": [
        "data_targets = dataframe[dataframe.columns[-1]].values\n",
        "print(\"Cantidad de etiquetas de diagnóstico: \", data_targets.shape[0])"
      ],
      "execution_count": 0,
      "outputs": [
        {
          "output_type": "stream",
          "text": [
            "Cantidad de etiquetas de diagnóstico:  366\n"
          ],
          "name": "stdout"
        }
      ]
    },
    {
      "cell_type": "code",
      "metadata": {
        "id": "oAiTi1Lqcs8b",
        "colab_type": "code",
        "colab": {},
        "outputId": "008e2e5b-5c12-4070-b7b8-b813b756e903"
      },
      "source": [
        "data_targets #Seis valores para las seis patologías posibles"
      ],
      "execution_count": 0,
      "outputs": [
        {
          "output_type": "execute_result",
          "data": {
            "text/plain": [
              "array([2, 1, 3, 1, 3, 2, 5, 3, 4, 4, 1, 2, 2, 1, 3, 4, 2, 1, 3, 5, 6, 2,\n",
              "       5, 3, 5, 1, 6, 5, 2, 3, 1, 2, 1, 1, 4, 2, 3, 2, 3, 1, 2, 4, 1, 2,\n",
              "       5, 3, 4, 6, 2, 3, 3, 4, 1, 1, 5, 1, 2, 3, 4, 2, 6, 1, 5, 1, 2, 3,\n",
              "       1, 4, 5, 1, 2, 6, 3, 5, 4, 2, 2, 1, 3, 5, 1, 2, 2, 2, 5, 1, 1, 3,\n",
              "       1, 4, 2, 2, 5, 1, 3, 4, 2, 5, 1, 6, 2, 5, 1, 2, 2, 1, 4, 1, 3, 1,\n",
              "       1, 3, 5, 3, 3, 5, 2, 3, 4, 1, 2, 5, 6, 1, 1, 2, 6, 3, 5, 4, 1, 1,\n",
              "       3, 5, 5, 1, 4, 2, 3, 1, 2, 1, 1, 3, 3, 3, 2, 5, 4, 2, 2, 1, 1, 1,\n",
              "       5, 3, 2, 3, 2, 2, 4, 2, 3, 6, 2, 1, 1, 3, 4, 3, 3, 1, 1, 1, 3, 1,\n",
              "       1, 2, 3, 3, 1, 1, 1, 1, 6, 2, 2, 2, 2, 1, 3, 3, 3, 1, 1, 2, 3, 2,\n",
              "       2, 2, 5, 5, 5, 5, 5, 1, 1, 1, 1, 1, 1, 1, 3, 3, 3, 3, 3, 3, 4, 4,\n",
              "       4, 4, 5, 5, 5, 5, 5, 5, 5, 2, 2, 2, 2, 1, 1, 1, 1, 1, 1, 6, 6, 1,\n",
              "       1, 1, 1, 1, 1, 1, 1, 3, 3, 3, 3, 3, 3, 3, 4, 4, 4, 4, 4, 4, 5, 5,\n",
              "       5, 5, 6, 6, 6, 4, 4, 4, 1, 1, 1, 1, 1, 2, 2, 4, 4, 4, 1, 1, 2, 2,\n",
              "       2, 3, 3, 3, 3, 1, 1, 1, 1, 5, 5, 5, 5, 5, 3, 3, 3, 4, 1, 1, 4, 4,\n",
              "       4, 1, 1, 1, 3, 3, 3, 3, 3, 1, 1, 1, 1, 4, 4, 1, 1, 4, 3, 3, 4, 1,\n",
              "       1, 4, 4, 5, 5, 1, 1, 5, 5, 3, 1, 5, 5, 6, 6, 4, 4, 6, 6, 6, 1, 1,\n",
              "       1, 5, 5, 1, 1, 1, 1, 2, 2, 4, 4, 3, 3, 1])"
            ]
          },
          "metadata": {
            "tags": []
          },
          "execution_count": 11
        }
      ]
    },
    {
      "cell_type": "markdown",
      "metadata": {
        "id": "Zn21ZpiWcs8e",
        "colab_type": "text"
      },
      "source": [
        "¿Cuál es la probabilidad a priori de cada clase? "
      ]
    },
    {
      "cell_type": "code",
      "metadata": {
        "id": "Uok1AA7qcs8f",
        "colab_type": "code",
        "colab": {},
        "outputId": "18231da3-c65c-4bbe-86d9-89c721d378cd"
      },
      "source": [
        "count_of_classes=np.bincount(data_targets)[1:]\n",
        "prob_apriori=count_of_classes/len(data_targets)\n",
        "apriori_dict=dict(zip(pathology_names,prob_apriori))\n",
        "apriori_dict\n"
      ],
      "execution_count": 0,
      "outputs": [
        {
          "output_type": "execute_result",
          "data": {
            "text/plain": [
              "{'psoriasis': 0.30601092896174864,\n",
              " 'seboreic dermatitis': 0.16666666666666666,\n",
              " 'lichen planus': 0.19672131147540983,\n",
              " 'pityriasis rosea': 0.13387978142076504,\n",
              " 'cronic dermatitis': 0.14207650273224043,\n",
              " 'pityriasis rubra pilaris': 0.0546448087431694}"
            ]
          },
          "metadata": {
            "tags": []
          },
          "execution_count": 11
        }
      ]
    },
    {
      "cell_type": "code",
      "metadata": {
        "id": "ChryqDVAcs8h",
        "colab_type": "code",
        "colab": {},
        "outputId": "ada120b4-e40b-4420-d9bc-c99c9c4f3248"
      },
      "source": [
        "print(zip(pathology_names,prob_apriori))"
      ],
      "execution_count": 0,
      "outputs": [
        {
          "output_type": "stream",
          "text": [
            "<zip object at 0x7fb4cf958a88>\n"
          ],
          "name": "stdout"
        }
      ]
    },
    {
      "cell_type": "code",
      "metadata": {
        "id": "CmLvEGJpcs8j",
        "colab_type": "code",
        "colab": {},
        "outputId": "8d9c3e5f-226b-4299-a7e2-8742b760531e"
      },
      "source": [
        "count_of_classes=np.bincount(data_targets)\n",
        "print(count_of_classes)"
      ],
      "execution_count": 0,
      "outputs": [
        {
          "output_type": "stream",
          "text": [
            "[  0 112  61  72  49  52  20]\n"
          ],
          "name": "stdout"
        }
      ]
    },
    {
      "cell_type": "markdown",
      "metadata": {
        "id": "acgFNQwocs8t",
        "colab_type": "text"
      },
      "source": [
        "**Naive Bayes Gaussiano**\n",
        "\n",
        "Hasta ahora trabajamos con Naive Bayes Multinomial, donde la probabilidad de observar un cierto valor de una variable para un determinado modelo generador se calcula contando la cantidad de ocurrencias del valor. Otro enfoque consiste en modelar la distribución de la variable como una distribución normal. En este caso, lo que se hace es calcular la media y el desvío estándar (en base a todas las observaciones de la variable que se tienen) y se calcula la probabilidad de observar un valor con la fórmula correspondiente para esa distribución normal:\n",
        "<center>\n",
        "X ~ $\\mathcal{N}(\\mu,\\,\\sigma^{2}) $\n",
        "<\\center>\n",
        "    \n",
        "    \n",
        "<center>\n",
        "$P(x) = \\frac{1}{\\sigma \\sqrt {2\\pi}}e^{\\frac{-(x-\\mu)^2}{2 * \\sigma^2}}$\n",
        "<\\center>"
      ]
    },
    {
      "cell_type": "code",
      "metadata": {
        "id": "10BAXLzJcs8v",
        "colab_type": "code",
        "colab": {},
        "outputId": "f9b74494-d823-47e9-9b3b-86178d4e3a12"
      },
      "source": [
        "variable_name = 'itching'\n",
        "variable_index=variable_names.index(variable_name)\n",
        "classes_means={}\n",
        "for i,clss in enumerate(pathology_names):\n",
        "    clss_mean = data_variables[data_targets==i+1,variable_index].mean(axis=0) \n",
        "    classes_means[clss]=clss_mean\n",
        "print(\"Media de \" + variable_name + \" por clase.\")\n",
        "classes_means"
      ],
      "execution_count": 0,
      "outputs": [
        {
          "output_type": "stream",
          "text": [
            "Media de itching por clase.\n"
          ],
          "name": "stdout"
        },
        {
          "output_type": "execute_result",
          "data": {
            "text/plain": [
              "{'psoriasis': 0.9464285714285714,\n",
              " 'seboreic dermatitis': 1.6229508196721312,\n",
              " 'lichen planus': 2.2777777777777777,\n",
              " 'pityriasis rosea': 0.46938775510204084,\n",
              " 'cronic dermatitis': 1.8846153846153846,\n",
              " 'pityriasis rubra pilaris': 0.5}"
            ]
          },
          "metadata": {
            "tags": []
          },
          "execution_count": 14
        }
      ]
    },
    {
      "cell_type": "code",
      "metadata": {
        "id": "2wBiVbApcs8x",
        "colab_type": "code",
        "colab": {},
        "outputId": "2b0b3812-ca17-4520-8ca0-c48fac854f98"
      },
      "source": [
        "variable_name = 'itching'\n",
        "variable_index=variable_names.index(variable_name)\n",
        "classes_vars={}\n",
        "for i,clss in enumerate(pathology_names):\n",
        "    clss_var = data_variables[data_targets==i+1,variable_index].var(axis=0,ddof=1) \n",
        "    classes_vars[clss]=clss_var\n",
        "print(\"Varianza de \" + variable_name + \" por clase.\")\n",
        "classes_vars"
      ],
      "execution_count": 0,
      "outputs": [
        {
          "output_type": "stream",
          "text": [
            "Varianza de itching por clase.\n"
          ],
          "name": "stdout"
        },
        {
          "output_type": "execute_result",
          "data": {
            "text/plain": [
              "{'psoriasis': 1.1862934362934365,\n",
              " 'seboreic dermatitis': 0.905464480874317,\n",
              " 'lichen planus': 0.6259780907668232,\n",
              " 'pityriasis rosea': 0.5875850340136054,\n",
              " 'cronic dermatitis': 1.08446455505279,\n",
              " 'pityriasis rubra pilaris': 0.3684210526315789}"
            ]
          },
          "metadata": {
            "tags": []
          },
          "execution_count": 15
        }
      ]
    },
    {
      "cell_type": "markdown",
      "metadata": {
        "id": "bvi-igM8cs80",
        "colab_type": "text"
      },
      "source": [
        "Para cada clase, podemos modelar una distribución normal de cada variable, a partir de la media y el desvío de esta variable en nuestra muestra. "
      ]
    },
    {
      "cell_type": "code",
      "metadata": {
        "id": "rybPlr9rcs81",
        "colab_type": "code",
        "colab": {}
      },
      "source": [
        "import matplotlib.pyplot as plt\n",
        "def gaussian(x, mu, sig):\n",
        "    return np.exp(-np.power((x - mu)/sig, 2.)/2)/(np.sqrt(2.*np.pi)*sig)\n",
        "\n",
        "def plot_gaussian(mu=0, sig= 1, points = 200, N = 2, marker=None, label = None, x = None, color = None, \n",
        "                  x_label='',y_label='',ax = None, figsize = (20,10), center_label_tick = None):\n",
        "    if ax is None:\n",
        "        f, ax = plt.subplots(1, 1, sharey=True, sharex=True, figsize = figsize)\n",
        "    if x is None:\n",
        "        x = np.linspace(mu-N*sig, mu+N*sig, points)\n",
        "    y = gaussian(x, mu, sig)\n",
        "    ax.plot(x,y, marker = marker, label = label, color = color)\n",
        "    ax.set_ylabel(y_label)\n",
        "    ax.set_xlabel(x_label)\n",
        "\n",
        "    if center_label_tick is not None:\n",
        "        labels = [item.get_text() for item in ax.get_xticklabels()]\n",
        "        labels[int((len(labels)-1)/2)] = center_label_tick\n",
        "        ax.set_xticklabels(labels)\n",
        "\n",
        "    return x, y"
      ],
      "execution_count": 0,
      "outputs": []
    },
    {
      "cell_type": "markdown",
      "metadata": {
        "id": "-b8h-VF1cs85",
        "colab_type": "text"
      },
      "source": [
        "Siguiendo con el ejemplo de la variable 'itching', graficamos las distribuciones normales de cada patología."
      ]
    },
    {
      "cell_type": "code",
      "metadata": {
        "id": "DNRdZpybcs85",
        "colab_type": "code",
        "colab": {},
        "outputId": "e9d7677a-24ab-498c-bc04-04b8ce37d983"
      },
      "source": [
        "f, axs = plt.subplots(1, 1, sharey=False, sharex=False, figsize = (10,6))\n",
        "\n",
        "for key,value in classes_means.items():\n",
        "    plot_gaussian(value, np.sqrt(classes_vars[key]), ax=axs, N=10, label=key)\n",
        "    axs.title.set_text('itching distribution for ' + key)\n",
        "    axs.legend()\n",
        "plt.show()"
      ],
      "execution_count": 0,
      "outputs": [
        {
          "output_type": "display_data",
          "data": {
            "image/png": "[encoded data removed]",
            "text/plain": [
              "<Figure size 720x432 with 1 Axes>"
            ]
          },
          "metadata": {
            "tags": []
          }
        }
      ]
    },
    {
      "cell_type": "markdown",
      "metadata": {
        "id": "AmJ5JqDycs89",
        "colab_type": "text"
      },
      "source": [
        "¿Cuál es la probabilidad de que un paciente con pityriasis rubra pilaris presente un grado 0 de itching?\n",
        "\n",
        "\n",
        "$$P(\\frac{B_{itching}=0}{A=pityriasisrubrapilaris})$$\n"
      ]
    },
    {
      "cell_type": "code",
      "metadata": {
        "id": "Eu6-2lsbcs9D",
        "colab_type": "code",
        "colab": {},
        "outputId": "59168457-024c-4c63-d550-5581fcdf3979"
      },
      "source": [
        "prob_condicional=gaussian(0,classes_means['pityriasis rubra pilaris'],np.sqrt(classes_vars['pityriasis rubra pilaris']))\n",
        "print(prob_condicional)"
      ],
      "execution_count": 0,
      "outputs": [
        {
          "output_type": "stream",
          "text": [
            "0.46815313154185856\n"
          ],
          "name": "stdout"
        }
      ]
    },
    {
      "cell_type": "markdown",
      "metadata": {
        "id": "LwFLVNrGcs9K",
        "colab_type": "text"
      },
      "source": [
        "¿cuál es el likelihood de esta observación?\n",
        "\n",
        "$$P(\\frac{B_{itching}=0}{A=pityriasisrubrapilaris}) * P(A=pityriasisrubrapilaris)$$"
      ]
    },
    {
      "cell_type": "code",
      "metadata": {
        "id": "sOpOb13jcs9N",
        "colab_type": "code",
        "colab": {},
        "outputId": "b73f9249-8273-4013-ec99-8a9faf47a780"
      },
      "source": [
        "likelihood=apriori_dict['pityriasis rubra pilaris']*prob_condicional\n",
        "print(likelihood)"
      ],
      "execution_count": 0,
      "outputs": [
        {
          "output_type": "stream",
          "text": [
            "0.025582138335620685\n"
          ],
          "name": "stdout"
        }
      ]
    },
    {
      "cell_type": "markdown",
      "metadata": {
        "id": "oxveIAq1cs9P",
        "colab_type": "text"
      },
      "source": [
        "¿Cuál es la probabilidad de que un paciente con **lichen planus** presente un grado 2 de **parakeratosis**? Tendrás que calcular la media y el desvío estándar de la parakeratosis para cada patología, como hicimos con itching"
      ]
    },
    {
      "cell_type": "code",
      "metadata": {
        "id": "qP1WA8rocs9Q",
        "colab_type": "code",
        "colab": {}
      },
      "source": [
        "[....te toca implementar]"
      ],
      "execution_count": 0,
      "outputs": []
    },
    {
      "cell_type": "markdown",
      "metadata": {
        "id": "zaKTHB4ycs9S",
        "colab_type": "text"
      },
      "source": [
        "Para simplificación, tomaremos únicamente tres variables. Se tiene el siguiente resultado de análisis clínico e histológico para estas tres variablse, y se desea calcular la probabilidad a posteriori de que este resultado indique que el paciente tiene **psoriasis**. "
      ]
    },
    {
      "cell_type": "code",
      "metadata": {
        "id": "ngugErt-cs9T",
        "colab_type": "code",
        "colab": {}
      },
      "source": [
        "variables_considered = ['itching','parakeratosis','spongiosis']\n",
        "sample_of_variables = [2, 2, 3]"
      ],
      "execution_count": 0,
      "outputs": []
    },
    {
      "cell_type": "markdown",
      "metadata": {
        "id": "nHgsnszgcs9V",
        "colab_type": "text"
      },
      "source": [
        "Comenzamos calculando la probabilidad condicional de cada observación para cada patología (probabilidad de obtener ese grado de variable en un paciente con esa patología)"
      ]
    },
    {
      "cell_type": "code",
      "metadata": {
        "id": "QrbDuirecs9W",
        "colab_type": "code",
        "colab": {},
        "outputId": "a03d98cc-9217-41bd-9d9c-3659ea8edad9"
      },
      "source": [
        "probs_condicionales = np.zeros((len(pathology_names),len(variables_considered)))\n",
        "for p,pathology in enumerate(pathology_names):\n",
        "    for i,variable in enumerate(variables_considered):\n",
        "        mean_var_path = data_variables[data_targets==p+1,i].mean(axis=0) \n",
        "        std_var_path = np.sqrt(data_variables[data_targets==p+1,i].var(axis=0,ddof=1))        \n",
        "        probs_condicionales[p,i]=gaussian(sample_of_variables[i],mean_var_path,std_var_path)\n",
        "        print(pathology +' con '+ variable + '=' + str(sample_of_variables[i]) + ': '+ str(probs_condicionales[p,i]))\n",
        "        "
      ],
      "execution_count": 0,
      "outputs": [
        {
          "output_type": "stream",
          "text": [
            "psoriasis con itching=2: 0.5776287711690937\n",
            "psoriasis con parakeratosis=2: 0.6055433758596596\n",
            "psoriasis con spongiosis=3: 0.20759825275121432\n",
            "seboreic dermatitis con itching=2: 0.5898567396862512\n",
            "seboreic dermatitis con parakeratosis=2: 0.7284144767477038\n",
            "seboreic dermatitis con spongiosis=3: 0.019370076085322065\n",
            "lichen planus con itching=2: 0.6592809043808283\n",
            "lichen planus con parakeratosis=2: 0.5146530598352851\n",
            "lichen planus con spongiosis=3: 0.24155798825956407\n",
            "pityriasis rosea con itching=2: 0.6704115612657748\n",
            "pityriasis rosea con parakeratosis=2: 0.4935669390165488\n",
            "pityriasis rosea con spongiosis=3: 0.024151768744608487\n",
            "cronic dermatitis con itching=2: 0.45025250208019996\n",
            "cronic dermatitis con parakeratosis=2: 0.24550913972543523\n",
            "cronic dermatitis con spongiosis=3: 0.024512157547667217\n",
            "pityriasis rubra pilaris con itching=2: 0.7778583726196552\n",
            "pityriasis rubra pilaris con parakeratosis=2: 0.7664925525108743\n",
            "pityriasis rubra pilaris con spongiosis=3: 0.019402344407000536\n"
          ],
          "name": "stdout"
        }
      ]
    },
    {
      "cell_type": "markdown",
      "metadata": {
        "id": "lG62uXxncs9b",
        "colab_type": "text"
      },
      "source": [
        "¿Cuál es el likelihood de esta observación para psoriasis? Si asumimos que las tres variables consideradas son independientes, podemos decir que la probabilidad conjunta condicional de estas tres observaciones es el producto de las tres probabilidades condicionales. "
      ]
    },
    {
      "cell_type": "code",
      "metadata": {
        "id": "f9eZS_mXcs9b",
        "colab_type": "code",
        "colab": {},
        "outputId": "1edf8887-3692-4d7f-8080-2f74a966c0c3"
      },
      "source": [
        "likelihood_psoriasis = apriori_dict['psoriasis']*probs_condicionales[0,0]*probs_condicionales[0,1]*probs_condicionales[0,2]\n",
        "print(\"Probabilidad no normalizada a posteriori de psoriasis: \",likelihood_psoriasis)"
      ],
      "execution_count": 0,
      "outputs": [
        {
          "output_type": "stream",
          "text": [
            "Probabilidad no normalizada a posteriori de psoriasis:  0.022220544959576025\n"
          ],
          "name": "stdout"
        }
      ]
    },
    {
      "cell_type": "markdown",
      "metadata": {
        "id": "H47j9icIcs9f",
        "colab_type": "text"
      },
      "source": [
        "Notar que no hace falta calcular el denominador"
      ]
    },
    {
      "cell_type": "markdown",
      "metadata": {
        "id": "w9IWjRhqcs9g",
        "colab_type": "text"
      },
      "source": [
        "En este caso nuestras seis patologías se corresponden a seis modelos generadores. ¿Cuál es el modelo generador con mayor likelihood para esta observación de tres variables? Es decir, ¿cuál es la patología más probable para este paciente?"
      ]
    },
    {
      "cell_type": "code",
      "metadata": {
        "id": "8MuZu7RScs9i",
        "colab_type": "code",
        "colab": {}
      },
      "source": [
        "[...te toca implementar]"
      ],
      "execution_count": 0,
      "outputs": []
    },
    {
      "cell_type": "markdown",
      "metadata": {
        "id": "dZi0S38ocs9k",
        "colab_type": "text"
      },
      "source": [
        "**Utilizando sklearn**"
      ]
    },
    {
      "cell_type": "code",
      "metadata": {
        "id": "PSQmhSB0cs9l",
        "colab_type": "code",
        "colab": {},
        "outputId": "020844e6-8c4e-46e1-e838-8548c44bfd4f"
      },
      "source": [
        "from sklearn.naive_bayes import GaussianNB\n",
        "gnb = GaussianNB()\n",
        "model = gnb.fit(data_variables, data_targets)\n",
        "model.theta_"
      ],
      "execution_count": 0,
      "outputs": [
        {
          "output_type": "execute_result",
          "data": {
            "text/plain": [
              "array([[2.28571429, 2.19642857, 2.09821429, 0.94642857, 0.66964286,\n",
              "        0.        , 0.03571429, 0.        , 1.63392857, 1.52678571,\n",
              "        0.28571429, 0.        , 0.03571429, 1.11607143, 0.        ,\n",
              "        0.26785714, 2.09821429, 0.82142857, 2.        , 2.11607143,\n",
              "        2.25892857, 2.05357143, 0.85714286, 1.15178571, 0.        ,\n",
              "        1.19642857, 0.00892857, 0.        , 0.        , 0.        ,\n",
              "        0.        , 1.86607143, 0.02678571],\n",
              "       [2.27868852, 2.06557377, 0.95081967, 1.62295082, 0.03278689,\n",
              "        0.        , 0.01639344, 0.        , 0.06557377, 0.1147541 ,\n",
              "        0.04918033, 0.        , 0.45901639, 1.08196721, 0.        ,\n",
              "        2.19672131, 1.7704918 , 0.21311475, 0.98360656, 0.        ,\n",
              "        0.16393443, 0.01639344, 0.16393443, 0.        , 0.        ,\n",
              "        0.        , 0.        , 2.16393443, 0.        , 0.01639344,\n",
              "        0.01639344, 1.60655738, 0.03278689],\n",
              "       [2.08333333, 1.625     , 2.09722222, 2.27777778, 1.34722222,\n",
              "        2.27777778, 0.        , 1.91666667, 0.02777778, 0.02777778,\n",
              "        0.01388889, 2.05555556, 0.16666667, 0.        , 0.05555556,\n",
              "        2.26388889, 2.11111111, 0.29166667, 1.20833333, 0.        ,\n",
              "        0.        , 0.        , 0.        , 0.04166667, 1.98611111,\n",
              "        0.23611111, 2.30555556, 1.09722222, 2.29166667, 0.01388889,\n",
              "        0.        , 2.25      , 2.72222222],\n",
              "       [1.89795918, 1.51020408, 1.18367347, 0.46938776, 1.18367347,\n",
              "        0.        , 0.        , 0.        , 0.        , 0.        ,\n",
              "        0.        , 0.        , 0.06122449, 0.12244898, 0.        ,\n",
              "        2.04081633, 1.44897959, 0.30612245, 0.75510204, 0.        ,\n",
              "        0.        , 0.        , 0.        , 0.02040816, 0.        ,\n",
              "        0.3877551 , 0.        , 1.95918367, 0.02040816, 0.        ,\n",
              "        0.        , 1.7755102 , 0.        ],\n",
              "       [1.5       , 1.13461538, 0.84615385, 1.88461538, 0.        ,\n",
              "        0.        , 0.23076923, 0.        , 0.03846154, 0.        ,\n",
              "        0.        , 0.        , 0.07692308, 0.        , 2.28846154,\n",
              "        0.84615385, 2.25      , 0.69230769, 0.75      , 0.07692308,\n",
              "        1.88461538, 0.01923077, 0.01923077, 0.        , 0.        ,\n",
              "        0.        , 0.        , 0.34615385, 0.        , 0.01923077,\n",
              "        0.        , 1.82692308, 0.01923077],\n",
              "       [2.05      , 1.75      , 1.05      , 0.5       , 0.        ,\n",
              "        0.        , 2.2       , 0.        , 1.7       , 0.5       ,\n",
              "        0.5       , 0.        , 0.        , 0.15      , 0.        ,\n",
              "        1.5       , 1.65      , 0.8       , 1.25      , 0.1       ,\n",
              "        0.1       , 0.        , 0.05      , 0.        , 0.05      ,\n",
              "        0.        , 0.        , 1.2       , 0.        , 1.75      ,\n",
              "        2.05      , 1.6       , 0.05      ]])"
            ]
          },
          "metadata": {
            "tags": []
          },
          "execution_count": 23
        }
      ]
    },
    {
      "cell_type": "markdown",
      "metadata": {
        "id": "M-ROMAi1cs9w",
        "colab_type": "text"
      },
      "source": [
        "Investigá en la documentación qué son los atributos sigma_ y theta_ de un objeto GaussianNB. Usando estos atributos, graficá nuevamente las distribuciones normales de cada patología para la variable 'itching' "
      ]
    },
    {
      "cell_type": "code",
      "metadata": {
        "id": "T2CwMhUXcs9x",
        "colab_type": "code",
        "colab": {}
      },
      "source": [
        "[...te toca implementar]"
      ],
      "execution_count": 0,
      "outputs": []
    },
    {
      "cell_type": "markdown",
      "metadata": {
        "id": "ZFgTk-3Lcs90",
        "colab_type": "text"
      },
      "source": [
        "**División de sets de datos**"
      ]
    },
    {
      "cell_type": "markdown",
      "metadata": {
        "id": "c9Rf1V8mcs91",
        "colab_type": "text"
      },
      "source": [
        "Para evaluar si el ajuste de nuestro modelo es bueno, dividiremos el set de pacientes en entrenamiento y test."
      ]
    },
    {
      "cell_type": "code",
      "metadata": {
        "id": "hO7hJ2Ovcs92",
        "colab_type": "code",
        "colab": {},
        "outputId": "9276cc92-f7bb-4511-996b-c7f02067736f"
      },
      "source": [
        "from sklearn.model_selection import train_test_split\n",
        "\n",
        "print(\"Total de muestras: \" + str(len(data_targets)))\n",
        "TEST_PERCENTAGE=0.2\n",
        "X_train, X_test, y_train, y_test = train_test_split(data_variables, data_targets, test_size=TEST_PERCENTAGE, random_state=4) \n",
        "#Investigá: qué utilidad tiene aclarar el random_state?\n",
        "\n",
        "print(\"Muestras de entrenamiento: \" + str(len(y_train)))\n",
        "\n",
        "print(\"Muestras de prueba: \" + str(len(y_test)))\n",
        "\n"
      ],
      "execution_count": 0,
      "outputs": [
        {
          "output_type": "stream",
          "text": [
            "Total de muestras: 366\n",
            "Muestras de entrenamiento: 292\n",
            "Muestras de prueba: 74\n"
          ],
          "name": "stdout"
        }
      ]
    },
    {
      "cell_type": "code",
      "metadata": {
        "id": "nFzivAsvcs95",
        "colab_type": "code",
        "colab": {}
      },
      "source": [
        "gnb = GaussianNB()\n",
        "model = gnb.fit(X_train, y_train)"
      ],
      "execution_count": 0,
      "outputs": []
    },
    {
      "cell_type": "code",
      "metadata": {
        "id": "Lehyua-ocs-X",
        "colab_type": "code",
        "colab": {}
      },
      "source": [
        "predictions = model.predict(X_test)"
      ],
      "execution_count": 0,
      "outputs": []
    },
    {
      "cell_type": "markdown",
      "metadata": {
        "id": "NJYaEjHzcs-d",
        "colab_type": "text"
      },
      "source": [
        "¿Cuál es el porcentaje de lesiones clasificadas correctamente?"
      ]
    },
    {
      "cell_type": "code",
      "metadata": {
        "id": "sAo0O-wmcs-f",
        "colab_type": "code",
        "colab": {}
      },
      "source": [
        "[...te toca implementar]"
      ],
      "execution_count": 0,
      "outputs": []
    },
    {
      "cell_type": "markdown",
      "metadata": {
        "id": "AwJtYa66cs-i",
        "colab_type": "text"
      },
      "source": [
        "**Búsqueda de hiperpárametros** \n",
        "\n",
        "La constante de smoothing se define como una proporción de la mayor varianza encontrada en la distribución de variables, y se sumará a todas las varianzas para estabilizar el proceso de ajuste. Por ejemplo, tomando var_smoothin=1e-1:\n"
      ]
    },
    {
      "cell_type": "code",
      "metadata": {
        "id": "z78kVjb4cs-j",
        "colab_type": "code",
        "colab": {},
        "outputId": "46a2dd51-bd48-410e-ed83-30c324e844aa"
      },
      "source": [
        "gnb = GaussianNB(var_smoothing=1e-1)\n",
        "model = gnb.fit(X_train, y_train)\n",
        "y_pred = model.predict(X_test)\n",
        "porc=sum(y_pred==y_test)/y_test.shape[0]*100\n",
        "print(\"El porcentaje de lesiones clasificados correctamente es: {}%\".format(porc))\n"
      ],
      "execution_count": 0,
      "outputs": [
        {
          "output_type": "stream",
          "text": [
            "El porcentaje de lesiones clasificados correctamente es: 95.94594594594594%\n"
          ],
          "name": "stdout"
        }
      ]
    },
    {
      "cell_type": "markdown",
      "metadata": {
        "id": "7P4jdXUZcs-n",
        "colab_type": "text"
      },
      "source": [
        "--------------------------------------------------------------------------------------------------\n",
        "Buscaremos optimizar el valor de var_smoothing. Para eso, necesitamos volver a dividir el set de entrenamiento, para tener un set de entrenamiento y un set de validación. \n"
      ]
    },
    {
      "cell_type": "code",
      "metadata": {
        "id": "_T2UfAujcs-n",
        "colab_type": "code",
        "colab": {}
      },
      "source": [
        "X_train_nuevo, X_val, y_train_nuevo, y_val = [...te toca implementar]"
      ],
      "execution_count": 0,
      "outputs": []
    },
    {
      "cell_type": "markdown",
      "metadata": {
        "id": "1t1ADhtZcs-p",
        "colab_type": "text"
      },
      "source": [
        "Calcular el porcentaje de lesiones clasificadas correctamente para los siguientes valores de var_smoothing, ajustando el modelo en el set de entrenamiento y evaluando en el set de validación. \n",
        "\n",
        "-  1e-3\n",
        "-  1e-5\n",
        "-  1e-7\n",
        "-  1e-9\n",
        "-  1e-11\n",
        "-  1e-13"
      ]
    },
    {
      "cell_type": "code",
      "metadata": {
        "id": "BrtMm7zlcs-p",
        "colab_type": "code",
        "colab": {}
      },
      "source": [
        "[...te toca implementar]"
      ],
      "execution_count": 0,
      "outputs": []
    },
    {
      "cell_type": "markdown",
      "metadata": {
        "id": "oAgiBTs4cs-r",
        "colab_type": "text"
      },
      "source": [
        "Con el var_smoothing que mejor desempeño tuvo en validación, ajusta un modelo usando el conjunto combinado del set de entrenamiento y validación. Luego, evaluá este modelo en el set de testeo. ¿Cuál es el porcentaje de predicciones correctas?"
      ]
    },
    {
      "cell_type": "code",
      "metadata": {
        "id": "R4BorhHacs-u",
        "colab_type": "code",
        "colab": {}
      },
      "source": [
        "[...te toca implementar]"
      ],
      "execution_count": 0,
      "outputs": []
    },
    {
      "cell_type": "markdown",
      "metadata": {
        "id": "SedbbjKfcs-2",
        "colab_type": "text"
      },
      "source": [
        "Dado que tenemos seis patologías, si deseamos hacer una matriz de confusión tendremos una matriz de 6x6. Si guardás las predicciones de tu modelo en test en una variable y_pred, podés calcular la matriz como:"
      ]
    },
    {
      "cell_type": "code",
      "metadata": {
        "id": "wV_E8Oxjcs-5",
        "colab_type": "code",
        "colab": {}
      },
      "source": [
        "from sklearn.metrics import confusion_matrix\n",
        "\n",
        "cf=confusion_matrix(y_test, y_pred, labels=pathology_names)\n",
        "print(cf)"
      ],
      "execution_count": 0,
      "outputs": []
    },
    {
      "cell_type": "markdown",
      "metadata": {
        "id": "_e5TPYNEcs_J",
        "colab_type": "text"
      },
      "source": [
        "Si nos enfocamos en una patología, podemos calcular las métricas del test diagnóstico: sensibilidad, especificidad, valor predictivo positivo y valor predictivo negativo. Si elegimos por ejemplo psoarisis, podemos mapear los diagnósticos a dos salidas: positivo o negativo para psoarisis. "
      ]
    },
    {
      "cell_type": "code",
      "metadata": {
        "id": "p5-h3NZics_J",
        "colab_type": "code",
        "colab": {}
      },
      "source": [
        "targets_ps = np.where(data.targets!=1, 0, data.targets)"
      ],
      "execution_count": 0,
      "outputs": []
    },
    {
      "cell_type": "markdown",
      "metadata": {
        "id": "LUCF7Rd3cs_N",
        "colab_type": "text"
      },
      "source": [
        "--------------------------------------------------------------------------------------------------\n",
        "Las variables son tanto histopatológicas (requieren de una biopsia) como clínicas. ¿Qué pasa si tomamos sólo los factores clínicos? Ajustá un modelo GaussianNB únicamente a las variables clínicas, y calculá las predicciones para el set de testeo usando también sólo variables clínicas. "
      ]
    },
    {
      "cell_type": "code",
      "metadata": {
        "id": "hNKrrDHjcs_S",
        "colab_type": "code",
        "colab": {}
      },
      "source": [
        "[...te toca implementar]"
      ],
      "execution_count": 0,
      "outputs": []
    },
    {
      "cell_type": "markdown",
      "metadata": {
        "id": "9BApZaEDcs_U",
        "colab_type": "text"
      },
      "source": [
        "--------------------------------------------------------------------------------------------------\n",
        "\n",
        "¿El mismo var_smoothing sigue siendo el más óptimo? Encontrá cual es el mejor var_smoothing cuando el modelo sólo considera variables clínicas "
      ]
    },
    {
      "cell_type": "code",
      "metadata": {
        "id": "6wBje95Lcs_V",
        "colab_type": "code",
        "colab": {}
      },
      "source": [
        "[...te toca implementar]"
      ],
      "execution_count": 0,
      "outputs": []
    },
    {
      "cell_type": "markdown",
      "metadata": {
        "id": "iiSiuVLucs_a",
        "colab_type": "text"
      },
      "source": [
        "--------------------------------------------------------------------------------------------------\n",
        "¿Y si tomamos sólo los factores histopatológicos? ¿El mismo var_smoothing sigue siendo el más óptimo?"
      ]
    },
    {
      "cell_type": "code",
      "metadata": {
        "id": "qgTm9tTRcs_b",
        "colab_type": "code",
        "colab": {}
      },
      "source": [
        "[...te toca implementar]"
      ],
      "execution_count": 0,
      "outputs": []
    },
    {
      "cell_type": "markdown",
      "metadata": {
        "id": "HwKGIm0Ncs_f",
        "colab_type": "text"
      },
      "source": [
        "--------------------------------------------------------------------------------------------------\n",
        "\n",
        "¿Qué modelo recomendarías? ¿Cuál creés que preferiría el dermatólogo?\n"
      ]
    },
    {
      "cell_type": "code",
      "metadata": {
        "id": "i37bkavscs_g",
        "colab_type": "code",
        "colab": {}
      },
      "source": [
        ""
      ],
      "execution_count": 0,
      "outputs": []
    }
  ]
}